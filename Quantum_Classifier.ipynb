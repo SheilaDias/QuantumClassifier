{
 "cells": [
  {
   "cell_type": "markdown",
   "metadata": {},
   "source": [
    "# Variational circuits for a classification problem"
   ]
  },
  {
   "cell_type": "markdown",
   "metadata": {},
   "source": [
    "This notebook is an illustration on how variational quantum circuits can be used for solving machine learning problems. In this case, we will take the example of a binary classification problem."
   ]
  },
  {
   "cell_type": "markdown",
   "metadata": {},
   "source": [
    "### What is a variational circuit ?"
   ]
  },
  {
   "cell_type": "markdown",
   "metadata": {},
   "source": [
    "In the general case, a variational method is the approximation of an intractable function $f$ (for example solution of a PDE or an optimization problem) by a function $v$, more easily computable. The goal is then to find $v$ that will minimize a specific cost $\\mathcal{L}(v)$. The cost function may be expensive to compute, which makes the problem difficult to solve. The idea of using Quantum Computing is to reduce the cost of estimation and in some cases gain an advantage on classical computers."
   ]
  },
  {
   "cell_type": "markdown",
   "metadata": {},
   "source": [
    "In our Machine Learning problem, let us suppose we observe $N$ samples of labeled data $(x_i, y_i)_{i \\in [1,N]}$ with $x_i \\in \\mathbb{R}^2$ and $y_i \\in \\{0,1\\}$. The goal of the task is to construct a predictor $f$ to estimate $y$ given a new value of $x$. The problem can be restricted to a set of parameterizable functions by a real vector $\\theta$. We will train a model with the training input by finding the parameters $\\theta$ that will minimize a loss $l$.\n",
    "\n",
    "$$\\arg\\min_{\\theta} \\frac{1}{N} \\sum_{i=1}^{N} l(f(x_i;\\theta), y_i)$$\n",
    "\n",
    "In our case, $f$ will return the probability of $x$ to be labelled $1$. It is then a number comprised between 0 and 1.\n",
    "The authors use the square loss $l(f(x),y) = (f(x)-y)^2$, another usual loss is the binary crossentropy loss $l(f(x),y) = - y log(f(x)) - (1-y)log(1-f(x))$. In both cases, the farther $f(x)$ is from $y$, the greater the loss."
   ]
  },
  {
   "cell_type": "markdown",
   "metadata": {},
   "source": [
    "### The use of quantum computers"
   ]
  },
  {
   "cell_type": "markdown",
   "metadata": {},
   "source": [
    "The idea of the proposed circuit is to compute $f(x;\\theta)$ with a quantum computer, and then to optimize the cost with a classical optimization algorithm, with the hope that it will be more efficient than a full classical algorithm.\n",
    "\n",
    "Quantum circuits are a very good framework to represent our problem, since the probability of a qubit to be in the state $|0\\rangle$ or in the state $|1\\rangle$ can be estimated by measurement. \n",
    "\n",
    "The circuit is composed of 3 steps: \n",
    "\n",
    "- State preparation: encode the classical data $x$ into a quantum circuit buy creating an operator $\\phi(x)$ which will result in the state $\\phi(x) |0_p\\rangle$ with $p$ the number of qubits.\n",
    "- Model circuit: apply an operator $U(\\theta)$ to the feature state, with $\\theta$ the trainable parameters.\n",
    "- Measurement: measure the qubit $q_0$ to estimate $f(x;\\theta) = \\mathbb{P}(q_0=1)$"
   ]
  },
  {
   "cell_type": "markdown",
   "metadata": {},
   "source": [
    "### State preparation\n",
    "\n",
    "The classical data need to be converted into a quantum state. A quantum state is a unitary norm vector of complex numbers and can be written $|\\psi \\rangle = \\sum_{i=1}^{n} a_i |i\\rangle$ with $\\sum_{i=1}^{n} |a_i|^2=1$, and $n=2^p$. Vectors with a power of 2 number of features can be normalized and represented into a quantum state using amplitude encoding, which means that the data are directly associated with the amplitudes of the quantum state. For other number of features, a strategy is to pad with the required number of features to reach a power of 2. The padding features can be zero on non-zero. It can be shown that the encoding can be done linearly with reference to the size of the input vector."
   ]
  },
  {
   "cell_type": "markdown",
   "metadata": {},
   "source": [
    "### Model circuit\n",
    "\n",
    "Given the quantum state $|\\phi(x) \\rangle$ which represents the vector $x$ in the quantum circuit, we create $U(\\theta)$ a unitary operator such that $U(\\theta)|\\phi(x) \\rangle$ is a quantum state we can measure. \n",
    "\n",
    "We decompose $U(\\theta) = U_1...U_L$ as a product of one or two qubits parametrized gates. In the following we will use a combination of C-NOT gates and general unitary gates whose general formulation is:\n",
    "$$U(\\theta, \\phi, \\lambda) = \\begin{bmatrix}\n",
    "  cos(\\frac{\\theta}{2}) & -e^{i\\lambda}sin(\\frac{\\theta}{2})\\\\ \n",
    "  e^{i\\phi}sin(\\frac{\\theta}{2}) & e^{i\\lambda+i\\phi}cos(\\frac{\\theta}{2})\n",
    "\\end{bmatrix} \n",
    "$$\n"
   ]
  },
  {
   "cell_type": "markdown",
   "metadata": {},
   "source": [
    "### Measurement\n",
    "\n",
    "The measurement of the 0 qubit of the quantum state $|U(\\theta)\\phi(x) \\rangle$ generated by the previous circuit gives $f(x;\\theta) = \\mathbb{P}(y|x=1;\\theta) = \\mathbb{P}(q_0=1|x;\\theta) = \\sum_{k=1}^{n} |(U(\\theta)\\phi(x))_k|^2$. For clarity, the explicit dependency of $\\theta$ will be removed and we will just note $U$ for $U(\\theta)$\n",
    "\n",
    "Let us denote $\\pi(x;\\theta) = \\mathbb{P}(q_0=1|x;\\theta)$. It can also be expressed by the expectancy of the operator $\\sigma_z$ applied to the first qubit. $$\\mathbb{E}(\\sigma_z) = \\langle \\phi(x)|U^\\dagger (\\sigma_z \\otimes \\mathbb{I} \\otimes ... \\otimes \\mathbb{I})U|\\phi(x) \\rangle$$ and $$\\pi(x;\\theta) = \\frac{-\\mathbb{E}(\\sigma_z)}{2}+\\frac{1}{2}$$.\n",
    "\n"
   ]
  },
  {
   "cell_type": "markdown",
   "metadata": {},
   "source": [
    "### Training\n",
    "\n",
    "The model is trained to minimize a loss function\n",
    "$$\\mathcal{L}(\\theta) = \\frac{1}{N} \\sum_{i=1}^{N} l(\\pi(x_i;\\theta), y_i)$$\n",
    "The parameters are updated via batch stochastic gradient descent. The difficulty is to be able to compute the gradient in an accurate way. Fortunately, as later explained it is possible to evaluate the gradient via quantum circuits.\n",
    "\n",
    "$$\\nabla_\\theta\\mathcal{L}(\\theta) = \\frac{1}{N} \\sum_{i=1}^{N} \\nabla_\\theta(l(\\pi(x_i;\\theta), y_i)) = \n",
    "\\frac{1}{N} \\sum_{i=1}^{N} \\nabla_\\theta\\pi(x_i;\\theta)\\partial_1l(\\pi(x_i;\\theta), y_i)$$ where $\\partial_1l$ is the partial derivative of $l$ with reference to the first variable.\n",
    "\n",
    "$$\\nabla_\\theta\\pi(x_i;\\theta) = \\frac{-\\nabla_\\theta\\mathbb{E}(\\sigma_z)}{2} = -\\frac{1}{2} \\nabla_\\theta\\langle \\phi(x)U | \\sigma_z U|\\phi(x) \\rangle$$ where $\\sigma_z \\otimes \\mathbb{I} \\otimes ... \\otimes \\mathbb{I}$ is abbreviated to $\\sigma_z$.\n",
    "\n",
    "Let us now consider $\\nu$ an element of the vector $\\theta$ and let us examine $\\partial_\\nu \\pi(x;\\theta)$\n",
    "\n",
    "$$\\partial_\\nu\\pi(x;\\theta) = -\\frac{1}{2} \\langle \\phi(x)\\partial_\\nu U| \\sigma_z |U\\phi(x) \\rangle -\\frac{1}{2} \\langle \\phi(x)U |\\sigma_z |\\partial_\\nu U\\phi(x) \\rangle $$ by the rules of derivation inside an expactancy. \n",
    "\n",
    "$$\\partial_\\nu\\pi(x;\\theta) = -\\frac{1}{2} (\\langle \\phi(x)\\partial_\\nu U| \\sigma_z U|\\phi(x) \\rangle + \\langle \\phi(x)\\partial_\\nu U| \\sigma_z |U\\phi(x) \\rangle^*) = - Re\\{ \\langle \\phi(x)\\partial_\\nu U| \\sigma_z |U\\phi(x) \\rangle\\}$$\n",
    "\n",
    "Generally speaking, $\\partial_\\nu U$ is not a unitary operator, and therefore cannot be implemented in a quantum circuit. However, due to our circuit architecture, il will be possible.\n",
    "\n",
    "The derivative of $U$ w.r.t $\\nu$ involves only the derivative of the elementary gate to which $\\nu$ belongs, due to the factorization of the circuit. It means that $\\partial_\\nu U = U_1...\\partial_\\nu(U_i)...U_L$ where $U_i$ is the gate to which $\\nu$ belongs.\n",
    "\n",
    "For an elementary unitary gate as described above, we have the following identities:\n",
    "\n",
    "$$\\partial_\\theta U = \\frac{1}{2} U(\\theta + \\pi, \\phi, \\lambda)$$\n",
    "\n",
    "$$\\partial_\\phi U = \\frac{i}{2} (U(\\theta, \\phi, \\lambda) - U(\\theta, \\phi + \\pi, \\lambda))$$\n",
    "\n",
    "$$\\partial_\\lambda U = \\frac{i}{2} U(\\theta, \\phi, \\lambda) - U(\\theta, \\phi, \\lambda + \\pi))$$\n",
    "\n",
    "Therefore $\\partial_\\nu U$ can be computed as the form\n",
    "\n",
    "$$ \\sum_{k=1}^{K}a_k Re\\{ \\langle \\phi(x)U(\\theta^{[k]})| \\sigma_z |U(\\theta)\\phi(x) \\rangle\\}+ \\sum_{l=1}^{L}b_l Im\\{ \\langle \\phi(x)U(\\theta^{[l]})| \\sigma_z |U(\\theta)\\phi(x) \\rangle\\}$$ where $\\theta^{[k]}$ and $\\theta^{[l]}$ are the modified vector of parameters from the above identities. The imaginary part comes from the $i$ in the same identities for $\\phi$ and $\\lambda$"
   ]
  },
  {
   "cell_type": "code",
   "execution_count": 1,
   "metadata": {},
   "outputs": [],
   "source": [
    "import numpy as np\n",
    "from qiskit import *\n",
    "from qiskit.tools.jupyter import *\n",
    "import matplotlib.pyplot as plt\n",
    "from scipy.optimize import minimize\n",
    "from sklearn.preprocessing import Normalizer\n",
    "\n",
    "backend = BasicAer.get_backend('qasm_simulator')\n"
   ]
  },
  {
   "cell_type": "code",
   "execution_count": 2,
   "metadata": {},
   "outputs": [],
   "source": [
    "def get_angles(x):\n",
    "\n",
    "    beta0 = 2 * np.arcsin(np.sqrt(x[1]) ** 2 / np.sqrt(x[0] ** 2 + x[1] ** 2 + 1e-12))\n",
    "    beta1 = 2 * np.arcsin(np.sqrt(x[3]) ** 2 / np.sqrt(x[2] ** 2 + x[3] ** 2 + 1e-12))\n",
    "    beta2 = 2 * np.arcsin(\n",
    "        np.sqrt(x[2] ** 2 + x[3] ** 2) / np.sqrt(x[0] ** 2 + x[1] ** 2 + x[2] ** 2 + x[3] ** 2)\n",
    "    )\n",
    "\n",
    "    return np.array([beta2, -beta1 / 2, beta1 / 2, -beta0 / 2, beta0 / 2])"
   ]
  },
  {
   "cell_type": "code",
   "execution_count": 3,
   "metadata": {},
   "outputs": [
    {
     "name": "stdout",
     "output_type": "stream",
     "text": [
      "First X sample (original)  : [0.4  0.75]\n",
      "First X sample (padded)    : [0.4  0.75 0.3  0.  ]\n",
      "First X sample (normalized): [0.44376016 0.83205029 0.33282012 0.        ]\n",
      "First features sample      : [ 0.67858523 -0.          0.         -1.080839    1.080839  ]\n"
     ]
    }
   ],
   "source": [
    "data = np.loadtxt(\"iris_classes1and2_scaled.txt\")\n",
    "X = data[:, 0:2]\n",
    "print(\"First X sample (original)  :\", X[0])\n",
    "\n",
    "# pad the vectors to size 2^2 with constant values\n",
    "padding = 0.3 * np.ones((len(X), 1))\n",
    "X_pad = np.c_[np.c_[X, padding], np.zeros((len(X), 1))]\n",
    "print(\"First X sample (padded)    :\", X_pad[0])\n",
    "\n",
    "# normalize each input\n",
    "normalization = np.sqrt(np.sum(X_pad ** 2, -1))\n",
    "X_norm = (X_pad.T / normalization).T\n",
    "print(\"First X sample (normalized):\", X_norm[0])\n",
    "\n",
    "# angles for state preparation are new features\n",
    "features = np.array([get_angles(x) for x in X_norm])\n",
    "print(\"First features sample      :\", features[0])\n",
    "\n",
    "Y = (data[:, -1] + 1) / 2"
   ]
  },
  {
   "cell_type": "code",
   "execution_count": 4,
   "metadata": {},
   "outputs": [],
   "source": [
    "def statepreparation(a, circuit, target):\n",
    "    \n",
    "    a = 2*a\n",
    "    circuit.ry(a[0], target[0])\n",
    "    \n",
    "    circuit.cx(target[0], target[1])\n",
    "    circuit.ry(a[1], target[1])\n",
    "    circuit.cx(target[0], target[1])\n",
    "    circuit.ry(a[2], target[1])\n",
    "\n",
    "    circuit.x(target[0])\n",
    "    circuit.cx(target[0], target[1])\n",
    "    circuit.ry(a[3], target[1])\n",
    "    circuit.cx(target[0], target[1])\n",
    "    circuit.ry(a[4], target[1])\n",
    "    circuit.x(target[0])\n",
    "    \n",
    "    return circuit"
   ]
  },
  {
   "cell_type": "code",
   "execution_count": 5,
   "metadata": {},
   "outputs": [],
   "source": [
    "def u_gate(param, circuit, target):\n",
    "    '''Return the quantum circuit with u3 gate applied on qubit target with param as an iterable'''\n",
    "    circuit.u3(param[0],param[1],param[2],target)\n",
    "    return circuit\n",
    "\n",
    "def cu_gate(param, circuit, control, target):\n",
    "    '''Return the quantum circuit with cu3 gate applied on qubit target with param as an iterable wrt control'''\n",
    "    circuit.cu3(param[0],param[1],param[2], control, target)\n",
    "    return circuit\n",
    "\n",
    "def circuit_block(param, circuit, target, same_order_x=True):\n",
    "    '''Return the block applied on qubits target from the circuit circuit\n",
    "    - param : array parameters for the two u gate\n",
    "    - target : array of integer the numero of qubits for the u gates to be applied\n",
    "    - if same_order_x == True : cx(target[0], target[1])\n",
    "    else: cx(target[1], target[0])'''\n",
    "    circuit = u_gate(param[0], circuit, target[0])\n",
    "    circuit = u_gate(param[1], circuit, target[1])\n",
    "    if same_order_x:\n",
    "        circuit.cx(target[0], target[1])\n",
    "    else:\n",
    "        circuit.cx(target[1], target[0])\n",
    "    return circuit\n",
    "\n",
    "def c_circuit_block(param, circuit, control, target, same_order_x=True):\n",
    "    '''Return the controlled block applied on qubits target from the circuit circuit\n",
    "    - param : array parameters for the two u gate\n",
    "    - target : array of integer the numero of qubits for the u gates to be applied\n",
    "    - if same_order_x == True : cx(target[0], target[1])\n",
    "    else: cx(target[1], target[0])'''\n",
    "    circuit = cu_gate(param[0], circuit, control, target[0])\n",
    "    circuit = cu_gate(param[1], circuit, control, target[1])\n",
    "    if same_order_x:\n",
    "        circuit.ccx(control, target[0], target[1])\n",
    "    else:\n",
    "        circuit.ccx(control, target[1], target[0])\n",
    "    return circuit\n",
    "\n",
    "def create_circuit(param, circuit, target):\n",
    "    order = True\n",
    "    for i in range(param.shape[0]):\n",
    "        circuit = circuit_block(param[i], circuit, target, order)\n",
    "        order = not order\n",
    "    return circuit\n",
    "\n",
    "def create_c_circuit(param, circuit, control, target):\n",
    "    order = True\n",
    "    for i in range(param.shape[0]):\n",
    "        circuit = c_circuit_block(param[i], circuit, control, target, order)\n",
    "        order = not order \n",
    "    return circuit"
   ]
  },
  {
   "cell_type": "code",
   "execution_count": 6,
   "metadata": {},
   "outputs": [
    {
     "data": {
      "image/png": "[encoded data removed]",
      "text/plain": [
       "<Figure size 1491.76x204.68 with 1 Axes>"
      ]
     },
     "execution_count": 6,
     "metadata": {},
     "output_type": "execute_result"
    }
   ],
   "source": [
    "x = np.array([0.53896774, 0.79503606, 0.27826503, 0.0])\n",
    "ang = get_angles(x)\n",
    "\n",
    "params = np.array([[[np.pi/3,np.pi/3,np.pi/4],\n",
    "                    [np.pi/6,np.pi/4,np.pi/6]],\n",
    "                    [[np.pi/6,np.pi/4,np.pi/4],\n",
    "                    [np.pi/3,np.pi/7,np.pi/6]],\n",
    "                    [[np.pi/3,np.pi/3,np.pi/4],\n",
    "                    [np.pi/6,np.pi/4,np.pi/6]],\n",
    "                    [[np.pi/6,np.pi/4,np.pi/4],\n",
    "                    [np.pi/3,np.pi/7,np.pi/6]]])\n",
    "\n",
    "q       = QuantumRegister(2)\n",
    "c       = ClassicalRegister(1)\n",
    "circuit = QuantumCircuit(q,c)\n",
    "circuit = statepreparation(ang, circuit, [0,1])\n",
    "\n",
    "circuit = create_circuit(params, circuit, [0,1])\n",
    "\n",
    "circuit.measure(0,c)\n",
    "\n",
    "circuit.draw(output='mpl')"
   ]
  },
  {
   "cell_type": "code",
   "execution_count": 7,
   "metadata": {},
   "outputs": [
    {
     "data": {
      "text/plain": [
       "0.129"
      ]
     },
     "execution_count": 7,
     "metadata": {},
     "output_type": "execute_result"
    }
   ],
   "source": [
    "def execute_circuit(params, angles=None, x=None, use_angles=True, bias=0, shots=1000):\n",
    "    if not use_angles:\n",
    "        angles = get_angles(x)\n",
    "    q       = QuantumRegister(2)\n",
    "    c       = ClassicalRegister(1)\n",
    "    circuit = QuantumCircuit(q,c)\n",
    "    circuit = statepreparation(angles, circuit, [0,1])\n",
    "\n",
    "    circuit = create_circuit(params, circuit, [0,1])\n",
    "    circuit.measure(0,c)\n",
    "    result = execute(circuit,backend,shots=shots).result()\n",
    "    #statevector = result.get_statevector(circuit, decimals=3)\n",
    "    counts = result.get_counts(circuit)\n",
    "    result=np.zeros(2)\n",
    "    for key in counts:\n",
    "        result[int(key,2)]=counts[key]\n",
    "    result/=shots\n",
    "    return result[1] + bias\n",
    "\n",
    "execute_circuit(params, ang, bias=0.02)"
   ]
  },
  {
   "cell_type": "code",
   "execution_count": 14,
   "metadata": {},
   "outputs": [],
   "source": [
    "def predict(probas):\n",
    "    return (probas>=0.5)*1\n",
    "\n",
    "def binary_crossentropy(labels, predictions):\n",
    "    loss = 0\n",
    "    for l, p in zip(labels, predictions):\n",
    "        loss = loss - l * np.log(np.max([p,1e-8]))\n",
    "\n",
    "    loss = loss / len(labels)\n",
    "    return loss\n",
    "\n",
    "def square_loss(labels, predictions):\n",
    "    loss = 0\n",
    "    for l, p in zip(labels, predictions):\n",
    "        loss = loss + (l - p) ** 2\n",
    "\n",
    "    loss = loss / len(labels)\n",
    "    return loss \n",
    "\n",
    "def cost(params, features, labels):\n",
    "    predictions = [execute_circuit(params, angles=f) for f in features]\n",
    "    return binary_crossentropy(labels, predictions)"
   ]
  },
  {
   "cell_type": "code",
   "execution_count": 15,
   "metadata": {},
   "outputs": [],
   "source": [
    "def accuracy(labels, predictions):\n",
    "\n",
    "    loss = 0\n",
    "    for l, p in zip(labels, predictions):\n",
    "        if abs(l - p) < 1e-5:\n",
    "            loss = loss + 1\n",
    "    loss = loss / len(labels)\n",
    "\n",
    "    return loss"
   ]
  },
  {
   "cell_type": "code",
   "execution_count": 16,
   "metadata": {},
   "outputs": [],
   "source": [
    "def real(param1, param2, angles, shots=1000):\n",
    "    \"\"\"Returns Re{<circuit(param2)|sigma_z|circuit(param1)>}\"\"\"\n",
    "    q = QuantumRegister(3)\n",
    "    c = ClassicalRegister(1)\n",
    "    circuit = QuantumCircuit(q,c)\n",
    "    circuit.h(q[0])\n",
    "    circuit = statepreparation(angles, circuit, [1,2])\n",
    "    circuit = create_c_circuit(param1, circuit, 0, [1,2])\n",
    "    circuit.cz(q[0], q[1])\n",
    "    circuit.x(q[0])\n",
    "    circuit = create_c_circuit(param2, circuit, 0, [1,2])\n",
    "    circuit.x(q[0])\n",
    "    circuit.h(q[0])\n",
    "    circuit.measure(q[0],c)\n",
    "    result = execute(circuit,backend,shots=shots).result()\n",
    "    counts = result.get_counts(circuit)\n",
    "    result=np.zeros(2)\n",
    "    for key in counts:\n",
    "        result[int(key,2)]=counts[key]\n",
    "    result/=shots\n",
    "    return (2*result[0]-1)\n",
    "\n",
    "def imaginary(param1, param2, angles, shots=1000):\n",
    "    \"\"\"Returns Im{<circuit(param2)|sigma_z|circuit(param1)>}\"\"\"\n",
    "    q = QuantumRegister(3)\n",
    "    c = ClassicalRegister(1)\n",
    "    circuit = QuantumCircuit(q,c)\n",
    "    circuit.h(q[0])\n",
    "    circuit = statepreparation(angles, circuit, [1,2])\n",
    "    circuit = create_c_circuit(param1, circuit, 0, [1,2])\n",
    "    circuit.cz(q[0], q[1])\n",
    "    circuit.x(q[0])\n",
    "    circuit = create_c_circuit(param2, circuit, 0, [1,2])\n",
    "    circuit.x(q[0])\n",
    "    circuit.u1(np.pi/2, q[0])\n",
    "    circuit.h(q[0])\n",
    "    circuit.measure(q[0],c)\n",
    "    result = execute(circuit,backend,shots=shots).result()\n",
    "    counts = result.get_counts(circuit)\n",
    "    result=np.zeros(2)\n",
    "    for key in counts:\n",
    "        result[int(key,2)]=counts[key]\n",
    "    result/=shots\n",
    "    return -(2*result[0]-1)"
   ]
  },
  {
   "cell_type": "code",
   "execution_count": 17,
   "metadata": {},
   "outputs": [
    {
     "data": {
      "text/plain": [
       "(array([[[ 0.31 ,  0.905,  1.4  ],\n",
       "         [-0.175, -0.655, -0.935]],\n",
       " \n",
       "        [[ 0.575,  0.925,  0.795],\n",
       "         [-0.675,  0.035, -0.595]],\n",
       " \n",
       "        [[-0.46 , -0.24 , -0.905],\n",
       "         [-1.185,  0.03 ,  0.02 ]],\n",
       " \n",
       "        [[ 0.35 ,  0.305, -0.37 ],\n",
       "         [ 0.71 ,  0.31 ,  0.82 ]]]), -4.999999999999999)"
      ]
     },
     "execution_count": 17,
     "metadata": {},
     "output_type": "execute_result"
    }
   ],
   "source": [
    "def gradients(params, angles, label, bias=0):\n",
    "    grads = np.zeros_like(params)\n",
    "    imag = imaginary(params, params, angles)\n",
    "    for i in range(params.shape[0]):\n",
    "        for j in range(params.shape[1]):\n",
    "            params_bis = np.copy(params)\n",
    "            \n",
    "            params_bis[i,j,0]+=np.pi\n",
    "            grads[i,j,0] = -0.5 * real(params, params_bis, angles)\n",
    "            params_bis[i,j,0]-=np.pi\n",
    "            \n",
    "            params_bis[i,j,1]+=np.pi\n",
    "            grads[i,j,1] = 0.5 * (imaginary(params, params_bis, angles) - imag)\n",
    "            params_bis[i,j,1]-=np.pi\n",
    "            \n",
    "            params_bis[i,j,2]+=np.pi\n",
    "            grads[i,j,2] = 0.5 * (imaginary(params, params_bis, angles) - imag)\n",
    "            params_bis[i,j,2]-=np.pi\n",
    "    p = execute_circuit(params, angles, bias=bias) \n",
    "    grad_bias = (p - label) / (p * (1 - p))\n",
    "    grads *= grad_bias\n",
    "    return grads, grad_bias\n",
    "            \n",
    "    \n",
    "gradients(params, ang, 1, 0.1)"
   ]
  },
  {
   "cell_type": "code",
   "execution_count": 18,
   "metadata": {},
   "outputs": [],
   "source": [
    "np.random.seed(0)\n",
    "num_data = len(Y)\n",
    "num_train = int(0.75 * num_data)\n",
    "index = np.random.permutation(range(num_data))\n",
    "feats_train = features[index[:num_train]]\n",
    "Y_train = Y[index[:num_train]]\n",
    "feats_val = features[index[num_train:]]\n",
    "Y_val = Y[index[num_train:]]\n",
    "\n",
    "# We need these later for plotting\n",
    "X_train = X[index[:num_train]]\n",
    "X_val = X[index[num_train:]]\n"
   ]
  },
  {
   "cell_type": "code",
   "execution_count": 19,
   "metadata": {
    "scrolled": true
   },
   "outputs": [
    {
     "name": "stdout",
     "output_type": "stream",
     "text": [
      "Iter:     1 | Cost: 0.4939705 | Acc train: 0.4666667 | Acc validation: 0.3600000 \n",
      "Iter:     2 | Cost: 0.4775516 | Acc train: 0.4666667 | Acc validation: 0.3600000 \n",
      "Iter:     3 | Cost: 0.4598722 | Acc train: 0.5066667 | Acc validation: 0.3200000 \n",
      "Iter:     4 | Cost: 0.4089149 | Acc train: 0.5733333 | Acc validation: 0.4000000 \n",
      "Iter:     5 | Cost: 0.3730197 | Acc train: 0.6266667 | Acc validation: 0.5200000 \n",
      "Iter:     6 | Cost: 0.3373007 | Acc train: 0.6533333 | Acc validation: 0.6400000 \n",
      "Iter:     7 | Cost: 0.2878319 | Acc train: 0.7733333 | Acc validation: 0.7600000 \n",
      "Iter:     8 | Cost: 0.2473829 | Acc train: 0.8400000 | Acc validation: 0.8000000 \n",
      "Iter:     9 | Cost: 0.2102287 | Acc train: 0.9066667 | Acc validation: 0.9200000 \n",
      "Iter:    10 | Cost: 0.1846681 | Acc train: 0.9466667 | Acc validation: 0.9200000 \n",
      "Iter:    11 | Cost: 0.1586124 | Acc train: 0.9733333 | Acc validation: 0.9600000 \n",
      "Iter:    12 | Cost: 0.1426971 | Acc train: 0.9866667 | Acc validation: 1.0000000 \n",
      "Iter:    13 | Cost: 0.1312193 | Acc train: 0.9866667 | Acc validation: 1.0000000 \n",
      "Iter:    14 | Cost: 0.1273367 | Acc train: 1.0000000 | Acc validation: 1.0000000 \n",
      "Iter:    15 | Cost: 0.1224637 | Acc train: 1.0000000 | Acc validation: 1.0000000 \n",
      "Iter:    16 | Cost: 0.1239529 | Acc train: 1.0000000 | Acc validation: 1.0000000 \n",
      "Iter:    17 | Cost: 0.1257821 | Acc train: 1.0000000 | Acc validation: 1.0000000 \n",
      "Iter:    18 | Cost: 0.1321090 | Acc train: 0.9466667 | Acc validation: 1.0000000 \n",
      "Iter:    19 | Cost: 0.1420694 | Acc train: 0.9333333 | Acc validation: 1.0000000 \n",
      "Iter:    20 | Cost: 0.1544643 | Acc train: 0.9200000 | Acc validation: 0.9600000 \n"
     ]
    }
   ],
   "source": [
    "layers = 6\n",
    "params_init = np.random.randn(layers,2,3) * 0.01\n",
    "bias_init = 0.01\n",
    "batch_size = 5\n",
    "learning_rate = 0.01\n",
    "momentum = 0.9\n",
    "\n",
    "var = np.copy(params_init)\n",
    "bias = bias_init\n",
    "v = np.zeros_like(var)\n",
    "v_bias = 0\n",
    "\n",
    "for it in range(20):\n",
    "\n",
    "    # Update the weights by one optimizer step\n",
    "    batch_index = np.random.randint(0, num_train, (batch_size,))\n",
    "    feats_train_batch = feats_train[batch_index]\n",
    "    Y_train_batch = Y_train[batch_index]\n",
    "    grads = np.zeros_like(var)\n",
    "    grad_bias = 0\n",
    "    var_corrected = var + momentum * v\n",
    "    bias_corrected = bias + momentum * v_bias\n",
    "    for j in range(batch_size):\n",
    "        g, g_bias = gradients(var_corrected, feats_train_batch[j], Y_train_batch[j], bias)\n",
    "        grads += g / batch_size\n",
    "        grad_bias +=g_bias / batch_size\n",
    "    \n",
    "    v = momentum * v - learning_rate * grads\n",
    "    v_bias = momentum * v_bias - learning_rate * grad_bias\n",
    "    \n",
    "    var += v\n",
    "    bias += v_bias\n",
    "\n",
    "    # Compute predictions on train and validation set\n",
    "    probas_train = np.array([execute_circuit(var, angles=f, bias=bias) for f in feats_train])\n",
    "    probas_val = np.array([execute_circuit(var, angles=f, bias=bias) for f in feats_val])\n",
    "    predictions_train = predict(probas_train)\n",
    "    predictions_val = predict(probas_val)\n",
    "\n",
    "    # Compute accuracy on train and validation set\n",
    "    acc_train = accuracy(Y_train, predictions_train)\n",
    "    acc_val = accuracy(Y_val, predictions_val)\n",
    "\n",
    "    print(\n",
    "        \"Iter: {:5d} | Cost: {:0.7f} | Acc train: {:0.7f} | Acc validation: {:0.7f} \"\n",
    "        \"\".format(it + 1, cost(var, features, Y), acc_train, acc_val)\n",
    "    )"
   ]
  },
  {
   "cell_type": "code",
   "execution_count": null,
   "metadata": {},
   "outputs": [],
   "source": [
    "probas_train"
   ]
  },
  {
   "cell_type": "code",
   "execution_count": null,
   "metadata": {},
   "outputs": [],
   "source": [
    "Y_train"
   ]
  },
  {
   "cell_type": "code",
   "execution_count": null,
   "metadata": {},
   "outputs": [],
   "source": [
    "var_pen = np.array([[[-1.70008964e-02, -2.84443569e-01,  5.92116445e-03],\n",
    "         [-7.37017052e-03,  2.07136141e-01,  1.50235744e-02]],\n",
    " \n",
    "        [[-1.60361139e-02,  4.33210544e-01,  7.49550023e-03],\n",
    "         [-1.54227671e-02,  7.67908247e-01, -3.72027707e-04]],\n",
    " \n",
    "        [[ 3.52989403e-05, -6.48823799e-01, -7.57998915e-03],\n",
    "         [ 5.74978409e-03,  1.44239487e-01, -8.98559513e-03]],\n",
    " \n",
    "        [[-1.30805347e-02,  3.95215103e-01,  7.98841245e-03],\n",
    "         [-1.56025301e-02,  3.48950036e-01,  5.27807214e-03]],\n",
    " \n",
    "        [[ 1.74935340e-02, -7.45943116e-01,  1.52679155e-02],\n",
    "         [ 1.77082265e-02,  6.74894453e-02,  3.06198935e-02]],\n",
    " \n",
    "        [[ 2.14797558e-02,  3.75524005e-01, -1.29316820e-03],\n",
    "         [-8.98539413e-03,  1.93064772e-02,  1.98606513e-03]]])"
   ]
  },
  {
   "cell_type": "code",
   "execution_count": 14,
   "metadata": {},
   "outputs": [
    {
     "name": "stderr",
     "output_type": "stream",
     "text": [
      "//anaconda3/lib/python3.7/site-packages/matplotlib/contour.py:1230: UserWarning: No contour levels were found within the data range.\n",
      "  warnings.warn(\"No contour levels were found\"\n"
     ]
    },
    {
     "data": {
      "image/png": "[encoded data removed]",
      "text/plain": [
       "<Figure size 432x288 with 2 Axes>"
      ]
     },
     "metadata": {
      "needs_background": "light"
     },
     "output_type": "display_data"
    }
   ],
   "source": [
    "plt.figure()\n",
    "cm = plt.cm.RdBu\n",
    "\n",
    "# make data for decision regions\n",
    "xx, yy = np.meshgrid(np.linspace(0.0, 1.5, 20), np.linspace(0.0, 1.5, 20))\n",
    "X_grid = [np.array([x, y]) for x, y in zip(xx.flatten(), yy.flatten())]\n",
    "\n",
    "# preprocess grid points like data inputs above\n",
    "padding = 0.3 * np.ones((len(X_grid), 1))\n",
    "X_grid = np.c_[np.c_[X_grid, padding], np.zeros((len(X_grid), 1))]  # pad each input\n",
    "normalization = np.sqrt(np.sum(X_grid ** 2, -1))\n",
    "X_grid = (X_grid.T / normalization).T  # normalize each input\n",
    "features_grid = np.array(\n",
    "    [get_angles(x) for x in X_grid]\n",
    ")  # angles for state preparation are new features\n",
    "predictions_grid = [execute_circuit(var, angles=f, bias=bias, shots=10000) for f in features_grid]\n",
    "Z = np.reshape(predictions_grid, xx.shape)\n",
    "\n",
    "# plot decision regions\n",
    "cnt = plt.contourf(xx, yy, Z, levels=np.arange(0, 1.1, 0.1), cmap=cm, alpha=0.8, extend=\"both\")\n",
    "plt.contour(xx, yy, Z, levels=[0.0], colors=(\"black\",), linestyles=(\"--\",), linewidths=(0.8,))\n",
    "plt.colorbar(cnt, ticks=[0, 0, 1])\n",
    "\n",
    "# plot data\n",
    "plt.scatter(\n",
    "    X_train[:, 0][Y_train == 1],\n",
    "    X_train[:, 1][Y_train == 1],\n",
    "    c=\"b\",\n",
    "    marker=\"o\",\n",
    "    edgecolors=\"k\",\n",
    "    label=\"class 1 train\",\n",
    ")\n",
    "plt.scatter(\n",
    "    X_val[:, 0][Y_val == 1],\n",
    "    X_val[:, 1][Y_val == 1],\n",
    "    c=\"b\",\n",
    "    marker=\"^\",\n",
    "    edgecolors=\"k\",\n",
    "    label=\"class 1 validation\",\n",
    ")\n",
    "plt.scatter(\n",
    "    X_train[:, 0][Y_train == 0],\n",
    "    X_train[:, 1][Y_train == 0],\n",
    "    c=\"r\",\n",
    "    marker=\"o\",\n",
    "    edgecolors=\"k\",\n",
    "    label=\"class -1 train\",\n",
    ")\n",
    "plt.scatter(\n",
    "    X_val[:, 0][Y_val == 0],\n",
    "    X_val[:, 1][Y_val == 0],\n",
    "    c=\"r\",\n",
    "    marker=\"^\",\n",
    "    edgecolors=\"k\",\n",
    "    label=\"class -1 validation\",\n",
    ")\n",
    "\n",
    "plt.legend()\n",
    "plt.show()"
   ]
  },
  {
   "cell_type": "code",
   "execution_count": null,
   "metadata": {},
   "outputs": [],
   "source": []
  },
  {
   "cell_type": "code",
   "execution_count": null,
   "metadata": {},
   "outputs": [],
   "source": []
  }
 ],
 "metadata": {
  "kernelspec": {
   "display_name": "Python 3",
   "language": "python",
   "name": "python3"
  },
  "language_info": {
   "codemirror_mode": {
    "name": "ipython",
    "version": 3
   },
   "file_extension": ".py",
   "mimetype": "text/x-python",
   "name": "python",
   "nbconvert_exporter": "python",
   "pygments_lexer": "ipython3",
   "version": "3.7.3"
  }
 },
 "nbformat": 4,
 "nbformat_minor": 2
}
